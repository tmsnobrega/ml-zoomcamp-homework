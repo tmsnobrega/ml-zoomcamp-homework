{
 "cells": [
  {
   "cell_type": "code",
   "execution_count": 260,
   "id": "c1bcb2a1-ce56-4493-84df-d2bb97daa70b",
   "metadata": {},
   "outputs": [],
   "source": [
    "# Import libraries\n",
    "import pandas as pd\n",
    "import numpy as np\n",
    "import matplotlib.pyplot as plt"
   ]
  },
  {
   "cell_type": "code",
   "execution_count": 261,
   "id": "22bf7b0a-9680-4d59-965b-e63c798fa9cf",
   "metadata": {},
   "outputs": [],
   "source": [
    "# Download dataset (only once)\n",
    "# !wget https://raw.githubusercontent.com/alexeygrigorev/datasets/master/car_fuel_efficiency.csv"
   ]
  },
  {
   "cell_type": "code",
   "execution_count": 262,
   "id": "c76dfdc1-4217-423e-af23-9c3ef2bfdf52",
   "metadata": {},
   "outputs": [],
   "source": [
    "# Read only the desired columns from the CSV file\n",
    "df = pd.read_csv('https://raw.githubusercontent.com/alexeygrigorev/datasets/master/car_fuel_efficiency.csv',\n",
    "                usecols=[   'engine_displacement',\n",
    "                            'horsepower',\n",
    "                            'vehicle_weight',\n",
    "                            'model_year',\n",
    "                            'fuel_efficiency_mpg']\n",
    "                )"
   ]
  },
  {
   "cell_type": "code",
   "execution_count": 263,
   "id": "a94386e3-fa13-495c-af90-3645bf3289cd",
   "metadata": {},
   "outputs": [
    {
     "data": {
      "image/png": "[encoded data removed]",
      "text/plain": [
       "<Figure size 640x480 with 1 Axes>"
      ]
     },
     "metadata": {},
     "output_type": "display_data"
    }
   ],
   "source": [
    "# Look at the fuel_efficiency_mpg variable. Does it have a long tail?\n",
    "plt.hist(df.fuel_efficiency_mpg, bins=10)\n",
    "plt.xlabel(\"Fuel Efficiency (mpg)\")\n",
    "plt.ylabel(\"Count\")\n",
    "plt.title(\"Distribution of fuel_efficiency_mpg\")\n",
    "plt.show()\n",
    "\n",
    "# No, it does not have a long tail.\n"
   ]
  },
  {
   "cell_type": "code",
   "execution_count": 264,
   "id": "45158f36-012d-46fe-a705-7a924ee79a98",
   "metadata": {},
   "outputs": [
    {
     "data": {
      "text/plain": [
       "engine_displacement      0\n",
       "horsepower             708\n",
       "vehicle_weight           0\n",
       "model_year               0\n",
       "fuel_efficiency_mpg      0\n",
       "dtype: int64"
      ]
     },
     "execution_count": 264,
     "metadata": {},
     "output_type": "execute_result"
    }
   ],
   "source": [
    "# Question 1: There's one column with missing values. What is it?\n",
    "df.isnull().sum()"
   ]
  },
  {
   "cell_type": "code",
   "execution_count": 265,
   "id": "5f3fafac-5277-4d5f-a9ea-6ea681f2e8bd",
   "metadata": {},
   "outputs": [
    {
     "data": {
      "text/plain": [
       "np.float64(149.0)"
      ]
     },
     "execution_count": 265,
     "metadata": {},
     "output_type": "execute_result"
    }
   ],
   "source": [
    "# Question 2: What's the median (50% percentile) for variable 'horsepower'?\n",
    "df['horsepower'].median()"
   ]
  },
  {
   "cell_type": "code",
   "execution_count": 266,
   "id": "d4efd3e1",
   "metadata": {},
   "outputs": [],
   "source": [
    "# Prepare and split the dataset\n",
    "# Shuffle the dataset (the filtered one you created above), use seed 42.\n",
    "np.random.seed(42)\n",
    "\n",
    "# Split your data in train/val/test sets, with 60%/20%/20% distribution.\n",
    "# Get dataset size\n",
    "n = len(df)\n",
    "\n",
    "# Compute split sizes\n",
    "n_val = int(0.2 * n)\n",
    "n_test = int(0.2 * n)\n",
    "n_train = n - (n_val + n_test)\n",
    "\n",
    "# Shuffle indices\n",
    "idx = np.arange(n)\n",
    "np.random.shuffle(idx)\n",
    "\n",
    "# Shuffle dataframe\n",
    "df_shuffled = df.iloc[idx]\n",
    "\n",
    "# Split into train/val/test\n",
    "df_train = df_shuffled.iloc[:n_train].reset_index(drop=True).copy()\n",
    "df_val = df_shuffled.iloc[n_train:n_train + n_val].reset_index(drop=True).copy()\n",
    "df_test = df_shuffled.iloc[n_train + n_val:].reset_index(drop=True).copy()"
   ]
  },
  {
   "cell_type": "code",
   "execution_count": 267,
   "id": "71a1534b",
   "metadata": {},
   "outputs": [],
   "source": [
    "# Question 3: We need to deal with missing values for the column from Q1.\n",
    "# Fill it with 0 \n",
    "df_train_0 = df_train.copy()\n",
    "df_val_0 = df_val.copy()\n",
    "df_test_0 = df_test.copy()\n",
    "\n",
    "df_train_0['horsepower'] = df_train_0['horsepower'].fillna(0)\n",
    "df_val_0['horsepower'] = df_val_0['horsepower'].fillna(0)\n",
    "df_test_0['horsepower'] = df_test_0['horsepower'].fillna(0)\n",
    "\n",
    "\n",
    "# Fill it with the mean\n",
    "df_train_mean = df_train.copy()\n",
    "df_val_mean = df_val.copy()\n",
    "df_test_mean = df_test.copy()\n",
    "\n",
    "# For computing the mean, use the training only!\n",
    "df_train_mean['horsepower'] = df_train_mean['horsepower'].fillna(df_train['horsepower'].mean())\n",
    "df_val_mean['horsepower'] = df_val_mean['horsepower'].fillna(df_train['horsepower'].mean())\n",
    "df_test_mean['horsepower'] = df_test_mean['horsepower'].fillna(df_train['horsepower'].mean())\n"
   ]
  },
  {
   "cell_type": "code",
   "execution_count": 268,
   "id": "364d037f",
   "metadata": {},
   "outputs": [],
   "source": [
    "# Try both options. For each, train a linear regression model without regularization using the code from the lessons.\n",
    "\n",
    "# Get target values for Fillna(0)\n",
    "y_train_0 = df_train_0.fuel_efficiency_mpg.values\n",
    "y_val_0 = df_val_0.fuel_efficiency_mpg.values\n",
    "y_test_0 = df_test_0.fuel_efficiency_mpg.values\n",
    "\n",
    "# Drop target from feature set for Fillna(0)\n",
    "del df_train_0['fuel_efficiency_mpg']\n",
    "del df_val_0['fuel_efficiency_mpg']\n",
    "del df_test_0['fuel_efficiency_mpg']\n",
    "\n",
    "# Get target values for Fillna(mean)\n",
    "y_train_mean = df_train_mean.fuel_efficiency_mpg.values\n",
    "y_val_mean = df_val_mean.fuel_efficiency_mpg.values\n",
    "y_test_mean = df_test_mean.fuel_efficiency_mpg.values\n",
    "\n",
    "# Drop target from feature set for Fillna(mean)\n",
    "del df_train_mean['fuel_efficiency_mpg']\n",
    "del df_val_mean['fuel_efficiency_mpg']\n",
    "del df_test_mean['fuel_efficiency_mpg']"
   ]
  },
  {
   "cell_type": "code",
   "execution_count": 269,
   "id": "ab2b0bb8",
   "metadata": {},
   "outputs": [],
   "source": [
    "def prepare_X(df, features):\n",
    "    return df[features].values\n",
    "\n",
    "def train_linear_regression(X, y):\n",
    "    ones = np.ones(X.shape[0])\n",
    "    X = np.column_stack([ones, X])  # bias term\n",
    "\n",
    "    XTX = X.T.dot(X)\n",
    "    XTX_inv = np.linalg.inv(XTX)\n",
    "    w = XTX_inv.dot(X.T).dot(y)\n",
    "    return w[0], w[1:]"
   ]
  },
  {
   "cell_type": "code",
   "execution_count": 270,
   "id": "a71fe7db",
   "metadata": {},
   "outputs": [
    {
     "name": "stdout",
     "output_type": "stream",
     "text": [
      "RMSE (fillna=0): 0.5173782638857467\n",
      "RMSE (fillna=mean): 0.46\n"
     ]
    }
   ],
   "source": [
    "features = ['engine_displacement', 'horsepower', 'vehicle_weight', 'model_year']\n",
    "target = 'fuel_efficiency_mpg'\n",
    "\n",
    "# Option 1: Fillna(0)\n",
    "X_train = prepare_X(df_train_0, features)\n",
    "X_val = prepare_X(df_val_0, features)\n",
    "y_train = y_train_0\n",
    "y_val = y_val_0\n",
    "\n",
    "w0, w = train_linear_regression(X_train, y_train)\n",
    "y_pred = w0 + X_val.dot(w)\n",
    "\n",
    "rmse = np.sqrt(((y_val - y_pred) ** 2).mean())\n",
    "rmse_0 = round(rmse, 2)\n",
    "print(\"RMSE (fillna=0):\", rmse)\n",
    "\n",
    "\n",
    "# Option 2: Fillna(mean)\n",
    "X_train = prepare_X(df_train_mean, features)\n",
    "X_val = prepare_X(df_val_mean, features)\n",
    "y_train = y_train_mean\n",
    "y_val = y_val_mean\n",
    "\n",
    "w0, w = train_linear_regression(X_train, y_train)\n",
    "y_pred = w0 + X_val.dot(w)\n",
    "\n",
    "rmse = np.sqrt(((y_val - y_pred) ** 2).mean())\n",
    "rmse_mean = round(rmse, 2)\n",
    "print(\"RMSE (fillna=mean):\", rmse_mean)\n"
   ]
  },
  {
   "cell_type": "code",
   "execution_count": 271,
   "id": "d2ff0db0",
   "metadata": {},
   "outputs": [
    {
     "name": "stdout",
     "output_type": "stream",
     "text": [
      "Filling with MEAN gives better RMSE.\n"
     ]
    }
   ],
   "source": [
    "# Question 3: Which option gives better RMSE?\n",
    "if rmse_mean < rmse_0:\n",
    "    print(\"Filling with MEAN gives better RMSE.\")\n",
    "elif rmse_mean > rmse_0:\n",
    "    print(\"Filling with 0 gives better RMSE.\")\n",
    "else:\n",
    "    print(\"Both are equally good\")\n"
   ]
  },
  {
   "cell_type": "code",
   "execution_count": 272,
   "id": "b46ff7e6",
   "metadata": {},
   "outputs": [],
   "source": [
    "# Question 4: Now let's train a regularized linear regression.\n",
    "# For this question, fill the NAs with 0.\n",
    "\n",
    "def train_linear_regression_reg(X, y, r=0.0):\n",
    "    ones = np.ones(X.shape[0])\n",
    "    X = np.column_stack([ones, X])\n",
    "\n",
    "    XTX = X.T.dot(X)\n",
    "    reg = r * np.eye(XTX.shape[0])\n",
    "    XTX = XTX + reg\n",
    "\n",
    "    XTX_inv = np.linalg.inv(XTX)\n",
    "    w = XTX_inv.dot(X.T).dot(y)\n",
    "    \n",
    "    return w[0], w[1:]\n",
    "\n",
    "# Same as before, fill NAs with 0\n",
    "X_train = prepare_X(df_train_0, features)\n",
    "X_val = prepare_X(df_val_0, features)\n",
    "y_train = y_train_0\n",
    "y_val = y_val_0\n"
   ]
  },
  {
   "cell_type": "code",
   "execution_count": 273,
   "id": "827afe7d",
   "metadata": {},
   "outputs": [
    {
     "data": {
      "text/plain": [
       "{0: np.float64(0.52),\n",
       " 0.01: np.float64(0.52),\n",
       " 0.1: np.float64(0.52),\n",
       " 1: np.float64(0.52),\n",
       " 5: np.float64(0.52),\n",
       " 10: np.float64(0.52),\n",
       " 100: np.float64(0.52)}"
      ]
     },
     "execution_count": 273,
     "metadata": {},
     "output_type": "execute_result"
    }
   ],
   "source": [
    "# Try different values of r from this list: [0, 0.01, 0.1, 1, 5, 10, 100].\n",
    "# Use RMSE to evaluate the model on the validation dataset.\n",
    "# Round the RMSE scores to 2 decimal digits.\n",
    "r_values = [0, 0.01, 0.1, 1, 5, 10, 100]\n",
    "rmse_scores = {}\n",
    "\n",
    "for r in r_values:\n",
    "    w0, w = train_linear_regression_reg(X_train, y_train, r=r)\n",
    "    y_pred = w0 + X_val.dot(w)\n",
    "    rmse = np.sqrt(((y_val - y_pred) ** 2).mean())\n",
    "    rmse_scores[r] = round(rmse, 2)\n",
    "\n",
    "rmse_scores\n"
   ]
  },
  {
   "cell_type": "code",
   "execution_count": 274,
   "id": "64e450ab",
   "metadata": {},
   "outputs": [
    {
     "name": "stdout",
     "output_type": "stream",
     "text": [
      "Best r = 0, with RMSE = 0.52\n"
     ]
    }
   ],
   "source": [
    "#Question 4: Which r gives the best RMSE? If multiple options give the same best RMSE, select the smallest r.\n",
    "best_r = min(rmse_scores, key=lambda k: (rmse_scores[k], k))  # pick smallest r if tie\n",
    "print(f\"Best r = {best_r}, with RMSE = {rmse_scores[best_r]:.2f}\")\n"
   ]
  },
  {
   "cell_type": "code",
   "execution_count": 275,
   "id": "3d00aa36",
   "metadata": {},
   "outputs": [],
   "source": [
    "# Question 5: We used seed 42 for splitting the data. Let's find out how selecting the seed influences our score.\n",
    "# Try different seed values: [0, 1, 2, 3, 4, 5, 6, 7, 8, 9].\n",
    "# For each seed, do the train/validation/test split with 60%/20%/20% distribution.\n",
    "\n",
    "rmse_scores = []\n",
    "\n",
    "for seed in range(10):\n",
    "    # Shuffle and split 60/20/20\n",
    "    n = len(df)\n",
    "    n_val = int(0.2 * n)\n",
    "    n_test = int(0.2 * n)\n",
    "    n_train = n - (n_val + n_test)\n",
    "\n",
    "    idx = np.arange(n)\n",
    "    np.random.seed(seed)\n",
    "    np.random.shuffle(idx)\n",
    "\n",
    "    df_shuffled = df.iloc[idx]\n",
    "\n",
    "    df_train = df_shuffled.iloc[:n_train].reset_index(drop=True).copy()\n",
    "    df_val = df_shuffled.iloc[n_train:n_train + n_val].reset_index(drop=True).copy()\n",
    "    df_test = df_shuffled.iloc[n_train + n_val:].reset_index(drop=True).copy()\n",
    "\n",
    "    # Fill the missing values with 0 and train a model without regularization.\n",
    "    df_train = df_train.fillna(0)\n",
    "    df_val = df_val.fillna(0)\n",
    "\n",
    "    # Prepare data\n",
    "    X_train = prepare_X(df_train, features)\n",
    "    X_val = prepare_X(df_val, features)\n",
    "\n",
    "    y_train = df_train[target].values\n",
    "    y_val = df_val[target].values\n",
    "\n",
    "    # Train model\n",
    "    w0, w = train_linear_regression(X_train, y_train)\n",
    "    y_pred = w0 + X_val.dot(w)\n",
    "\n",
    "    # For each seed, evaluate the model on the validation dataset and collect the RMSE scores.\n",
    "    rmse = np.sqrt(((y_val - y_pred) ** 2).mean())\n",
    "    rmse_scores.append(rmse)\n"
   ]
  },
  {
   "cell_type": "code",
   "execution_count": 276,
   "id": "8911991e",
   "metadata": {},
   "outputs": [
    {
     "name": "stdout",
     "output_type": "stream",
     "text": [
      "RMSE scores per seed: [np.float64(0.521), np.float64(0.521), np.float64(0.523), np.float64(0.516), np.float64(0.511), np.float64(0.528), np.float64(0.531), np.float64(0.509), np.float64(0.515), np.float64(0.513)]\n",
      "Standard deviation of RMSE: 0.007\n"
     ]
    }
   ],
   "source": [
    "# Question 5: What's the standard deviation of all the scores? To compute the standard deviation, use np.std. Round the result to 3 decimal digits (round(std, 3))\n",
    "std = np.std(rmse_scores)\n",
    "std_rounded = round(std, 3)\n",
    "\n",
    "print(\"RMSE scores per seed:\", [round(s, 3) for s in rmse_scores])\n",
    "print(\"Standard deviation of RMSE:\", std_rounded)"
   ]
  },
  {
   "cell_type": "code",
   "execution_count": 277,
   "id": "c4fd97b0",
   "metadata": {},
   "outputs": [],
   "source": [
    "# Question 6: Split the dataset like previously, use seed 9.\n",
    "np.random.seed(9)\n",
    "\n",
    "# Combine train and validation datasets.\n",
    "n = len(df)\n",
    "n_val = int(0.2 * n)\n",
    "n_test = int(0.2 * n)\n",
    "n_train = n - (n_val + n_test)\n",
    "\n",
    "idx = np.arange(n)\n",
    "np.random.shuffle(idx)\n",
    "\n",
    "df_shuffled = df.iloc[idx]\n",
    "\n",
    "df_train = df_shuffled.iloc[:n_train].reset_index(drop=True).copy()\n",
    "df_val = df_shuffled.iloc[n_train:n_train + n_val].reset_index(drop=True).copy()\n",
    "df_test = df_shuffled.iloc[n_train + n_val:].reset_index(drop=True).copy()"
   ]
  },
  {
   "cell_type": "code",
   "execution_count": 278,
   "id": "fdecee05",
   "metadata": {},
   "outputs": [],
   "source": [
    "# Fill the missing values with 0 and train a model with r=0.001.\n",
    "df_full_train = pd.concat([df_train, df_val]).reset_index(drop=True)\n",
    "\n",
    "df_full_train = df_full_train.fillna(0)\n",
    "df_test = df_test.fillna(0)\n",
    "\n",
    "X_train = df_full_train[features].values\n",
    "y_train = df_full_train[target].values\n",
    "X_test = df_test[features].values\n",
    "y_test = df_test[target].values\n",
    "\n",
    "def train_linear_regression_reg(X, y, r=0.0):\n",
    "    ones = np.ones(X.shape[0])\n",
    "    X = np.column_stack([ones, X])\n",
    "\n",
    "    XTX = X.T.dot(X)\n",
    "    reg = r * np.eye(XTX.shape[0])\n",
    "    XTX = XTX + reg\n",
    "\n",
    "    XTX_inv = np.linalg.inv(XTX)\n",
    "    w = XTX_inv.dot(X.T).dot(y)\n",
    "    \n",
    "    return w[0], w[1:]\n",
    "\n",
    "w0, w = train_linear_regression_reg(X_train, y_train, r=0.001)\n",
    "\n",
    "y_pred = w0 + X_test.dot(w)\n"
   ]
  },
  {
   "cell_type": "code",
   "execution_count": 279,
   "id": "fbfd76f3",
   "metadata": {},
   "outputs": [
    {
     "name": "stdout",
     "output_type": "stream",
     "text": [
      "RMSE on test data: 0.52\n"
     ]
    }
   ],
   "source": [
    "# Question 6: What's the RMSE on the test dataset?\n",
    "rmse = np.sqrt(((y_test - y_pred) ** 2).mean())\n",
    "print(\"RMSE on test data:\", round(rmse, 2))"
   ]
  }
 ],
 "metadata": {
  "kernelspec": {
   "display_name": "Python 3",
   "language": "python",
   "name": "python3"
  },
  "language_info": {
   "codemirror_mode": {
    "name": "ipython",
    "version": 3
   },
   "file_extension": ".py",
   "mimetype": "text/x-python",
   "name": "python",
   "nbconvert_exporter": "python",
   "pygments_lexer": "ipython3",
   "version": "3.12.1"
  }
 },
 "nbformat": 4,
 "nbformat_minor": 5
}
